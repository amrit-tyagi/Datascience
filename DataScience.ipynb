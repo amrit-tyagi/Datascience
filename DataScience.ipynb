{
 "cells": [
  {
   "cell_type": "markdown",
   "id": "c1a0cf7f-db7d-420c-9ead-00f4253057ed",
   "metadata": {},
   "source": [
    "# Data Science Tools and Ecosystem"
   ]
  },
  {
   "cell_type": "markdown",
   "id": "0c8f1715-0a13-48cd-9ed3-e2929c63c7b8",
   "metadata": {},
   "source": [
    "In this notebook, data Science Tools and Ecosystem are summarized"
   ]
  },
  {
   "cell_type": "markdown",
   "id": "e26a385a-b264-43f9-9581-5d17e52209dc",
   "metadata": {},
   "source": [
    "Some of the popular languages that Data Scientists use are:\n",
    "\n",
    "1. Python\n",
    "2. R\n",
    "3. SQL\n",
    "4. C++\n",
    "5. Java etc..."
   ]
  },
  {
   "cell_type": "markdown",
   "id": "1161edfc-7159-45f8-91d2-8d3e4b38eaa7",
   "metadata": {},
   "source": [
    "Some of the commonly used libraries used by Data Scientists include:\n",
    "\n",
    "1. TensorFlow\n",
    "2. NumPy.\n",
    "3. SciPy.\n",
    "4. Pandas.\n",
    "5. Matplotlib.\n",
    "6. Keras.\n",
    "7. SciKit-Learn.\n",
    "8. PyTorch.etc..."
   ]
  },
  {
   "cell_type": "markdown",
   "id": "addc0217-be6b-41f5-ba44-ad669c7848fb",
   "metadata": {},
   "source": [
    "| Data Science Tools |\n",
    "|----------------|\n",
    "| S A S  |\n",
    "| Apache Hadoop|\n",
    "| TensorFlow |"
   ]
  },
  {
   "cell_type": "markdown",
   "id": "e2d65057-585b-49b6-ba2a-ea63c0973e3b",
   "metadata": {},
   "source": [
    "### Below are a few examples of evaluating arithmetic expressions in Python."
   ]
  },
  {
   "cell_type": "code",
   "execution_count": 3,
   "id": "6090b22c-3213-4000-a384-e9577e9e3deb",
   "metadata": {
    "tags": []
   },
   "outputs": [
    {
     "data": {
      "text/plain": [
       "17"
      ]
     },
     "execution_count": 3,
     "metadata": {},
     "output_type": "execute_result"
    }
   ],
   "source": [
    "#this a common arithmetic example to multiply and then add integers\n",
    "(3*4)+5"
   ]
  },
  {
   "cell_type": "code",
   "execution_count": 4,
   "id": "2d460647-e98c-4882-b63d-f5b86594fc4b",
   "metadata": {
    "tags": []
   },
   "outputs": [
    {
     "data": {
      "text/plain": [
       "3.3333333333333335"
      ]
     },
     "execution_count": 4,
     "metadata": {},
     "output_type": "execute_result"
    }
   ],
   "source": [
    "#This will convert 300 minutes to hours by duviding by 60\n",
    "200/60"
   ]
  },
  {
   "cell_type": "markdown",
   "id": "add49efe-ec20-4275-9363-7bf62c0960a3",
   "metadata": {},
   "source": [
    "__Objective__\n",
    "\n",
    "* List popular languages for Data Science \n",
    "* List popular libraries for Data Science \n",
    "* List of well known Data Science Tools\n",
    "* How to provide comments in the cell\n"
   ]
  },
  {
   "cell_type": "markdown",
   "id": "d8339657-8b58-4ef9-b3cc-b70b9d7dfaa8",
   "metadata": {},
   "source": [
    "## Author\n",
    "\n",
    "Amrit Tyagi"
   ]
  },
  {
   "cell_type": "code",
   "execution_count": null,
   "id": "963abcd5-21be-47fb-80d7-9011e40ecaaa",
   "metadata": {},
   "outputs": [],
   "source": []
  }
 ],
 "metadata": {
  "kernelspec": {
   "display_name": "Python",
   "language": "python",
   "name": "conda-env-python-py"
  },
  "language_info": {
   "codemirror_mode": {
    "name": "ipython",
    "version": 3
   },
   "file_extension": ".py",
   "mimetype": "text/x-python",
   "name": "python",
   "nbconvert_exporter": "python",
   "pygments_lexer": "ipython3",
   "version": "3.7.12"
  }
 },
 "nbformat": 4,
 "nbformat_minor": 5
}
